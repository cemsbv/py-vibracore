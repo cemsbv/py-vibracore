{
 "cells": [
  {
   "cell_type": "markdown",
   "id": "immune-fusion",
   "metadata": {},
   "source": [
    "# VibraCore report\n",
    "\n",
    "______________________________________________________________________\n",
    "\n",
    "**Authors: Robin Wimmers  (r.wimmers@cemsbv.io)**\n",
    "\n",
    "Notebook with stepwise explanation of reading and processing CPT data and writing the results to a standard template. For more information about VibraCore, take a look at the documentation!\n",
    "\n",
    "The structure of the tutorial is as follows:\n",
    "\n",
    "- [Project definition](#Input-definition)\n",
    "- [Download CPT's in project](#Download-CPTs-in-project)\n",
    "- [Classify CPTs](#Classify-CPTs)\n",
    "- [Call VibraCore-API](#Call-VibraCore-API)\n",
    "- [View Results](#View-Results)\n",
    "- [Report](#Report)\n"
   ]
  },
  {
   "cell_type": "markdown",
   "id": "alive-diesel",
   "metadata": {},
   "source": [
    "Now we can import the required packages:"
   ]
  },
  {
   "cell_type": "code",
   "execution_count": null,
   "id": "paperback-flour",
   "metadata": {
    "tags": []
   },
   "outputs": [],
   "source": [
    "import os\n",
    "from typing import Dict\n",
    "import io\n",
    "import logging\n",
    "\n",
    "import pygef\n",
    "from nuclei.client import NucleiClient\n",
    "from pyvibracore import api\n",
    "from pyvibracore.input.impact_force_properties import (\n",
    "    VibrationSource,\n",
    "    create_multi_cpt_impact_force_payload,\n",
    "    create_multi_cpt_impact_force_report_payload,\n",
    ")\n",
    "from pyvibracore.results.impact_force_result import MultiCalculationData\n",
    "\n",
    "import contextily as ctx\n",
    "import pandas as pd\n",
    "from tqdm import tqdm\n",
    "\n",
    "pd.set_option(\"display.max_columns\", None)\n",
    "logging.getLogger().setLevel(logging.INFO)"
   ]
  },
  {
   "cell_type": "markdown",
   "id": "0b04d2c6-d7d2-410d-9674-23978885d5c1",
   "metadata": {},
   "source": [
    "### Start a Nuclei client session\n",
    "\n",
    "In the next cell we will create a nuclei-client with a session that takes care of the\n",
    "authentication and communication with the Nuclei server.\n",
    "\n",
    "You will need to provide your user token, which can be obtained by login in to the [nuclei website](https://nuclei.cemsbv.io/) with your personal credentials and going to the \"API Access Tokens\" section."
   ]
  },
  {
   "cell_type": "code",
   "execution_count": null,
   "id": "0670bfcc",
   "metadata": {
    "tags": []
   },
   "outputs": [],
   "source": [
    "# os.environ[\"NUCLEI_TOKEN\"] = \"<YOUR TOKEN>\"\n",
    "\n",
    "client = NucleiClient()"
   ]
  },
  {
   "cell_type": "markdown",
   "id": "elegant-jumping",
   "metadata": {},
   "source": [
    "# Input definition"
   ]
  },
  {
   "cell_type": "markdown",
   "id": "bfa5cb30-bace-471b-aae0-c756f10b458c",
   "metadata": {},
   "source": [
    "<div style=\"background: #f2ed4c;\n",
    "            width: 100%;\n",
    "            color: black;\n",
    "            text-align: center;\">\n",
    "<b>USER INPUT REQUIRED BELOW:<b>\n",
    "</div>"
   ]
  },
  {
   "cell_type": "code",
   "execution_count": null,
   "id": "4048ba44-971f-4f28-882f-a5778161a33d",
   "metadata": {},
   "outputs": [],
   "source": [
    "# General input data\n",
    "project_id = 21305  # also used to select cpt\n",
    "project_remark = \"Voorbeeld Notebook\"  # Optional additional information\n",
    "author = \"N. Uclei\"\n",
    "project_name = \"Impact force calculation\""
   ]
  },
  {
   "cell_type": "code",
   "execution_count": null,
   "id": "13ccaae1-386f-453d-ad8c-f3a191787c25",
   "metadata": {},
   "outputs": [],
   "source": [
    "# Specify CPT selection from project\n",
    "\n",
    "# ** cpt_selection\n",
    "# Specify a list of CPTs names (i.e. BRO ID).\n",
    "cpt_selection = [\n",
    "    \"CPT000000200908\",\n",
    "    \"CPT000000200909\",\n",
    "    \"CPT000000112268\",\n",
    "    \"CPT000000112278\",\n",
    "    \"CPT000000200904\",\n",
    "    \"CPT000000200905\",\n",
    "    \"CPT000000112265\",\n",
    "    \"CPT000000200906\",\n",
    "    \"CPT000000200907\",\n",
    "]\n",
    "\n",
    "\n",
    "# ** classify_metode:\n",
    "# Metode used to classify CPT data.\n",
    "# Accepted values: [\"beenJefferies\", \"machineLearning\", \"nen\", \"table\", \"robertson\", \"ntype\"]\n",
    "classify_metode = \"ntype\"\n",
    "\n",
    "# ** groundwater_level\n",
    "# The groundwater-level in the project [m w.r.t offset].\n",
    "# When None, the water-level of the CPTs is used.\n",
    "groundwater_level_offset = -0.5"
   ]
  },
  {
   "cell_type": "code",
   "execution_count": null,
   "id": "ef963382-f763-4459-851e-1b23874002a1",
   "metadata": {},
   "outputs": [],
   "source": [
    "# Sheet pile information (single sheetpile (1 sheet))\n",
    "name = \"AZ12-770\"\n",
    "\n",
    "# ** slot_resistance_specific\n",
    "# kPa push = 5 / vibrate = 10 for new sheet piles\n",
    "slot_resistance_specific = 5\n",
    "\n",
    "# ** amount_of_sheet_piles\n",
    "# push = 1 / vibrate = 2\n",
    "amount_of_sheet_piles = 2"
   ]
  },
  {
   "cell_type": "code",
   "execution_count": null,
   "id": "9996334b-04ee-4480-a1c2-a9036cc10b73",
   "metadata": {},
   "outputs": [],
   "source": [
    "# Installation information\n",
    "\n",
    "# ** drive_strategy\n",
    "# Accepted values: [push, vibrate]\n",
    "drive_strategy = \"vibrate\"\n",
    "\n",
    "# ** installation_level_offset\n",
    "# installation level [m w.r.t offset]\n",
    "installation_level_offset = -20"
   ]
  },
  {
   "cell_type": "code",
   "execution_count": null,
   "id": "9749edda-c3f0-4b1e-b93e-559eac0571ef",
   "metadata": {},
   "outputs": [],
   "source": [
    "# ** friction_strategy\n",
    "# Defines the the strategy on how to computed the sleeve friction.\n",
    "# Accepted values: [SlipFrictionStrategy, CPTFrictionStrategy]\n",
    "friction_strategy = \"SlipFrictionStrategy\""
   ]
  },
  {
   "cell_type": "markdown",
   "id": "d714a627-6ad9-4e63-b27d-7ad766655d38",
   "metadata": {},
   "source": [
    "<div style=\"background: #f2ed4c;\n",
    "            width: 100%;\n",
    "            color: black;\n",
    "            text-align: center;\">\n",
    "<b>END USER INPUT<b>\n",
    "</div>"
   ]
  },
  {
   "cell_type": "markdown",
   "id": "automated-truth",
   "metadata": {},
   "source": [
    "#### Download CPTs in project"
   ]
  },
  {
   "cell_type": "code",
   "execution_count": null,
   "id": "commercial-pleasure",
   "metadata": {
    "tags": []
   },
   "outputs": [],
   "source": [
    "# Get CPTs\n",
    "# loop over the cpt id's and fetch file from BRO\n",
    "cptdata_objects = []\n",
    "for file_metadata in tqdm(cpt_selection, desc=\"Download CPT's from BRO\"):\n",
    "    # download CPT from BRO\n",
    "    response = client.session.get(\n",
    "        url=f\"https://publiek.broservices.nl/sr/cpt/v1/objects/{file_metadata}\"\n",
    "    )\n",
    "    if not response.ok:\n",
    "        print(\n",
    "            f\"RuntimeError: {file_metadata} could not be donwloaded from de BRO server. \\n Statuse code: {response.status_code}\"\n",
    "        )\n",
    "        continue\n",
    "\n",
    "    cpt = pygef.read_cpt(io.BytesIO(response.content))\n",
    "    object.__setattr__(cpt, \"alias\", file_metadata)\n",
    "    object.__setattr__(cpt, \"data\", cpt.data.drop_nulls())\n",
    "    cptdata_objects.append(cpt)"
   ]
  },
  {
   "cell_type": "markdown",
   "id": "intimate-stroke",
   "metadata": {},
   "source": [
    "#### Classify CPTs"
   ]
  },
  {
   "cell_type": "code",
   "execution_count": null,
   "id": "8087c1a5-2cde-4154-b2e1-579d436cd1d8",
   "metadata": {
    "tags": []
   },
   "outputs": [],
   "source": [
    "classify_tables: Dict[str, dict] = {}\n",
    "\n",
    "for i, cpt in tqdm(enumerate(cptdata_objects), desc=\"Classify CPT's from BRO\"):\n",
    "    # classify CPT with CPTCore\n",
    "    payload = {\n",
    "        \"aggregateLayersPenalty\": 5,\n",
    "        \"minimumSegmentLength\": 5,\n",
    "        \"data\": {\n",
    "            \"coneResistance\": cpt.data.get_column(\"coneResistance\")\n",
    "            .clip(0, 50)\n",
    "            .to_list(),\n",
    "            \"correctedPenetrationLength\": cpt.data.get_column(\"depth\").to_list(),\n",
    "            \"localFriction\": cpt.data.get_column(\"localFriction\").clip(0, 50).to_list(),\n",
    "        },\n",
    "        \"verticalPositionOffset\": cpt.delivered_vertical_position_offset,\n",
    "        \"x\": cpt.delivered_location.x,\n",
    "        \"y\": cpt.delivered_location.y,\n",
    "    }\n",
    "    if \"porePressureU2\" in cpt.data.columns:\n",
    "        payload[\"data\"][\"porePressureU2\"] = (\n",
    "            cpt.data.get_column(\"porePressureU2\").clip(0, 50).to_list(),\n",
    "        )[0]\n",
    "\n",
    "    response = client.session.post(\n",
    "        f\"https://crux-nuclei.com/api/cptcore/v1/classify/{classify_metode}\",\n",
    "        json=payload,\n",
    "    )\n",
    "    if not response.ok:\n",
    "        cptdata_objects.pop(i)\n",
    "        print(\n",
    "            f\"RuntimeError: {file_metadata} could not be classified. \\n Statuse code: {response.status_code}\"\n",
    "        )\n",
    "        continue\n",
    "    classify_tables[cpt.alias] = response.json()"
   ]
  },
  {
   "cell_type": "markdown",
   "id": "f5881aff-0e1c-4306-a5e8-9abe2b3445e0",
   "metadata": {},
   "source": [
    "#### Call VibraCore-API"
   ]
  },
  {
   "cell_type": "code",
   "execution_count": null,
   "id": "f1843772-665b-4be3-9bfc-6c7f33956fcd",
   "metadata": {
    "tags": []
   },
   "outputs": [],
   "source": [
    "# get pile properties\n",
    "vibration_source = VibrationSource.from_sheet_pile_name(\n",
    "    name, amount_of_sheet_piles, slot_resistance_specific\n",
    ")"
   ]
  },
  {
   "cell_type": "code",
   "execution_count": null,
   "id": "c19432be-dff9-46ff-b353-2a63a794b978",
   "metadata": {
    "tags": []
   },
   "outputs": [],
   "source": [
    "# Get results\n",
    "multi_cpt_payload = create_multi_cpt_impact_force_payload(\n",
    "    cptdata_objects=cptdata_objects,\n",
    "    classify_tables=classify_tables,\n",
    "    vibration_source=vibration_source,\n",
    "    friction_strategy=friction_strategy,\n",
    "    drive_strategy=drive_strategy,\n",
    "    installation_level_offset=installation_level_offset,\n",
    "    groundwater_level_offset=groundwater_level_offset,\n",
    ")\n",
    "\n",
    "api_response = api.get_impact_force_calculation(\n",
    "    client=client, payload=multi_cpt_payload\n",
    ")\n",
    "\n",
    "results = MultiCalculationData.from_api_response(\n",
    "    response_dict=api_response,\n",
    ")"
   ]
  },
  {
   "cell_type": "markdown",
   "id": "9c6100ad-49b0-485c-945d-4b4fc101c66b",
   "metadata": {},
   "source": [
    "## View Results"
   ]
  },
  {
   "cell_type": "code",
   "execution_count": null,
   "id": "a6fb9f06",
   "metadata": {
    "tags": []
   },
   "outputs": [],
   "source": [
    "fig = results.plot(figsize=[20, 15])\n",
    "\n",
    "# add basemap\n",
    "ctx.add_basemap(fig.axes[0], crs=\"EPSG:28992\", source=ctx.providers.Esri.WorldTopoMap)"
   ]
  },
  {
   "cell_type": "markdown",
   "id": "1d7e4091",
   "metadata": {},
   "source": [
    "## Report"
   ]
  },
  {
   "cell_type": "code",
   "execution_count": null,
   "id": "bd60c820-6681-42ef-93fc-fdf08b821773",
   "metadata": {
    "tags": []
   },
   "outputs": [],
   "source": [
    "# Create report\n",
    "report_payload = create_multi_cpt_impact_force_report_payload(\n",
    "    multi_cpt_payload,\n",
    "    project_name=project_name,\n",
    "    project_id=str(project_id),\n",
    "    author=author,\n",
    ")\n",
    "\n",
    "report = api.get_impact_force_report(client=client, payload=report_payload)\n",
    "\n",
    "with open(f\"{project_name} report.pdf\", \"wb\") as f:\n",
    "    f.write(report)"
   ]
  }
 ],
 "metadata": {
  "kernelspec": {
   "display_name": "Python 3 (ipykernel)",
   "language": "python",
   "name": "python3"
  },
  "language_info": {
   "codemirror_mode": {
    "name": "ipython",
    "version": 3
   },
   "file_extension": ".py",
   "mimetype": "text/x-python",
   "name": "python",
   "nbconvert_exporter": "python",
   "pygments_lexer": "ipython3",
   "version": "3.9.18"
  }
 },
 "nbformat": 4,
 "nbformat_minor": 5
}
